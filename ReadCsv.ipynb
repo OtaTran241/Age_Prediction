{
 "cells": [
  {
   "cell_type": "markdown",
   "metadata": {},
   "source": [
    "## Kiểm tra và lọc dữ liệu trong file excel"
   ]
  },
  {
   "cell_type": "code",
   "execution_count": 1,
   "metadata": {},
   "outputs": [],
   "source": [
    "import pandas as pd"
   ]
  },
  {
   "cell_type": "code",
   "execution_count": 4,
   "metadata": {},
   "outputs": [
    {
     "name": "stdout",
     "output_type": "stream",
     "text": [
      "<class 'pandas.core.frame.DataFrame'>\n",
      "RangeIndex: 560 entries, 0 to 559\n",
      "Data columns (total 6 columns):\n",
      " #   Column      Non-Null Count  Dtype  \n",
      "---  ------      --------------  -----  \n",
      " 0   New_ID      560 non-null    int64  \n",
      " 1   Sex         560 non-null    object \n",
      " 2   Age         560 non-null    int64  \n",
      " 3   Ethnicity   560 non-null    object \n",
      " 4   Unnamed: 4  0 non-null      float64\n",
      " 5   Unnamed: 5  8 non-null      object \n",
      "dtypes: float64(1), int64(2), object(3)\n",
      "memory usage: 26.4+ KB\n"
     ]
    }
   ],
   "source": [
    "df = pd.DataFrame(pd.read_excel(\"C:/Users/ASUS TUFF/Desktop/Python_pj/VoiceClassification/AgePrediction/data/BVC_Voice_Bio_Public.xlsx\"))\n",
    "df.info()"
   ]
  },
  {
   "cell_type": "code",
   "execution_count": 3,
   "metadata": {},
   "outputs": [
    {
     "data": {
      "text/plain": [
       "Age\n",
       "18    84\n",
       "19    70\n",
       "20    58\n",
       "17    51\n",
       "22    50\n",
       "21    50\n",
       "24    38\n",
       "23    36\n",
       "25    20\n",
       "16    18\n",
       "26    14\n",
       "28    11\n",
       "31     7\n",
       "29     7\n",
       "27     6\n",
       "30     4\n",
       "15     4\n",
       "35     4\n",
       "32     4\n",
       "33     3\n",
       "40     2\n",
       "43     2\n",
       "37     2\n",
       "36     2\n",
       "57     2\n",
       "56     1\n",
       "50     1\n",
       "45     1\n",
       "65     1\n",
       "34     1\n",
       "54     1\n",
       "48     1\n",
       "38     1\n",
       "41     1\n",
       "51     1\n",
       "14     1\n",
       "Name: count, dtype: int64"
      ]
     },
     "execution_count": 3,
     "metadata": {},
     "output_type": "execute_result"
    }
   ],
   "source": [
    "df['Age'].value_counts()"
   ]
  },
  {
   "cell_type": "code",
   "execution_count": 4,
   "metadata": {},
   "outputs": [
    {
     "data": {
      "text/plain": [
       "New_ID    560\n",
       "Age        36\n",
       "dtype: int64"
      ]
     },
     "execution_count": 4,
     "metadata": {},
     "output_type": "execute_result"
    }
   ],
   "source": [
    "df = df.drop(columns=['Unnamed: 4', 'Unnamed: 5','Ethnicity','Sex'])\n",
    "df.nunique()"
   ]
  },
  {
   "cell_type": "code",
   "execution_count": 5,
   "metadata": {},
   "outputs": [],
   "source": [
    "value_counts = df['Age'].value_counts()\n",
    "\n",
    "to_remove = value_counts[value_counts <= 10].index\n",
    "\n",
    "df = df[~df.Age.isin(to_remove)]"
   ]
  },
  {
   "cell_type": "code",
   "execution_count": 6,
   "metadata": {},
   "outputs": [
    {
     "data": {
      "text/plain": [
       "Age\n",
       "18    84\n",
       "19    70\n",
       "20    58\n",
       "17    51\n",
       "22    50\n",
       "21    50\n",
       "24    38\n",
       "23    36\n",
       "25    20\n",
       "16    18\n",
       "26    14\n",
       "28    11\n",
       "Name: count, dtype: int64"
      ]
     },
     "execution_count": 6,
     "metadata": {},
     "output_type": "execute_result"
    }
   ],
   "source": [
    "df['Age'].value_counts()"
   ]
  },
  {
   "cell_type": "code",
   "execution_count": 7,
   "metadata": {},
   "outputs": [
    {
     "data": {
      "text/plain": [
       "New_ID    500\n",
       "Age        12\n",
       "dtype: int64"
      ]
     },
     "execution_count": 7,
     "metadata": {},
     "output_type": "execute_result"
    }
   ],
   "source": [
    "df.nunique()"
   ]
  },
  {
   "cell_type": "code",
   "execution_count": 8,
   "metadata": {},
   "outputs": [
    {
     "data": {
      "text/plain": [
       "[19, 23, 18, 17, 26, 24, 22, 20, 25, 21, 28, 16]"
      ]
     },
     "execution_count": 8,
     "metadata": {},
     "output_type": "execute_result"
    }
   ],
   "source": [
    "unique_items = df['Age'].unique().tolist()\n",
    "unique_items"
   ]
  },
  {
   "cell_type": "code",
   "execution_count": 9,
   "metadata": {},
   "outputs": [
    {
     "data": {
      "text/html": [
       "<div>\n",
       "<style scoped>\n",
       "    .dataframe tbody tr th:only-of-type {\n",
       "        vertical-align: middle;\n",
       "    }\n",
       "\n",
       "    .dataframe tbody tr th {\n",
       "        vertical-align: top;\n",
       "    }\n",
       "\n",
       "    .dataframe thead th {\n",
       "        text-align: right;\n",
       "    }\n",
       "</style>\n",
       "<table border=\"1\" class=\"dataframe\">\n",
       "  <thead>\n",
       "    <tr style=\"text-align: right;\">\n",
       "      <th></th>\n",
       "      <th>New_ID</th>\n",
       "      <th>Age</th>\n",
       "    </tr>\n",
       "  </thead>\n",
       "  <tbody>\n",
       "    <tr>\n",
       "      <th>0</th>\n",
       "      <td>4001</td>\n",
       "      <td>19</td>\n",
       "    </tr>\n",
       "    <tr>\n",
       "      <th>1</th>\n",
       "      <td>4002</td>\n",
       "      <td>23</td>\n",
       "    </tr>\n",
       "    <tr>\n",
       "      <th>2</th>\n",
       "      <td>4003</td>\n",
       "      <td>18</td>\n",
       "    </tr>\n",
       "    <tr>\n",
       "      <th>3</th>\n",
       "      <td>4004</td>\n",
       "      <td>23</td>\n",
       "    </tr>\n",
       "    <tr>\n",
       "      <th>4</th>\n",
       "      <td>4005</td>\n",
       "      <td>17</td>\n",
       "    </tr>\n",
       "  </tbody>\n",
       "</table>\n",
       "</div>"
      ],
      "text/plain": [
       "   New_ID  Age\n",
       "0    4001   19\n",
       "1    4002   23\n",
       "2    4003   18\n",
       "3    4004   23\n",
       "4    4005   17"
      ]
     },
     "execution_count": 9,
     "metadata": {},
     "output_type": "execute_result"
    }
   ],
   "source": [
    "df.head(5)"
   ]
  },
  {
   "cell_type": "markdown",
   "metadata": {},
   "source": [
    "## Tạo thư mục data"
   ]
  },
  {
   "cell_type": "code",
   "execution_count": 2,
   "metadata": {},
   "outputs": [],
   "source": [
    "import shutil\n",
    "import os"
   ]
  },
  {
   "cell_type": "code",
   "execution_count": 11,
   "metadata": {},
   "outputs": [
    {
     "name": "stdout",
     "output_type": "stream",
     "text": [
      "1778\n"
     ]
    }
   ],
   "source": [
    "# # Đếm số lượng file\n",
    "# DIR = 'C:/Users/ASUS TUFF/Desktop/Python_pj/Data/VoiceGenderClassification/multiple_sentences'\n",
    "# print(len([name for name in os.listdir(DIR) if os.path.isfile(os.path.join(DIR, name))]))"
   ]
  },
  {
   "cell_type": "code",
   "execution_count": 7,
   "metadata": {},
   "outputs": [],
   "source": [
    "# Tạo file cho các class\n",
    "def CreateFileInDir(dir, names):\n",
    "    for name in names:\n",
    "        folder_path = os.path.join(dir, name)\n",
    "        if not os.path.exists(folder_path):\n",
    "            os.makedirs(folder_path)"
   ]
  },
  {
   "cell_type": "code",
   "execution_count": 13,
   "metadata": {},
   "outputs": [],
   "source": [
    "dir = 'C:/Users/ASUS TUFF/Desktop/Python_pj/VoiceClassification/Data/VoiceGenderClassification/Train'\n",
    "names = list(map(str, unique_items))\n",
    "CreateFileInDir(dir, names)"
   ]
  },
  {
   "cell_type": "code",
   "execution_count": 14,
   "metadata": {},
   "outputs": [],
   "source": [
    "# Chia file vào các folder\n",
    "dirs = ['C:/Users/ASUS TUFF/Desktop/Python_pj/VoiceClassification/Data/VoiceGenderClassification/multiple_sentences',\n",
    "       'C:/Users/ASUS TUFF/Desktop/Python_pj/VoiceClassification/Data/VoiceGenderClassification/one_sentence',\n",
    "       'C:/Users/ASUS TUFF/Desktop/Python_pj/VoiceClassification/AgePrediction/data/S_02_voice/multiple_sentences']\n",
    "for dir in dirs:\n",
    "    for file in os.listdir(dir):\n",
    "        filtered_df  = df[df['New_ID'] == int(file[5:9])]\n",
    "        if not filtered_df.empty:\n",
    "            file_to_copy = dir+ '/' + file\n",
    "            destination_directory = 'C:/Users/ASUS TUFF/Desktop/Python_pj/VoiceClassification/Data/VoiceGenderClassification/Train/' + str(filtered_df['Age'].values[0])\n",
    "            shutil.copy(file_to_copy, destination_directory)"
   ]
  },
  {
   "cell_type": "code",
   "execution_count": 15,
   "metadata": {},
   "outputs": [
    {
     "name": "stdout",
     "output_type": "stream",
     "text": [
      "tuổi: 28\n"
     ]
    }
   ],
   "source": [
    "filtered_df = df[df['New_ID'] == 4921]\n",
    "if not filtered_df.empty:\n",
    "    print('tuổi: ' + str(filtered_df['Age'].values[0]))"
   ]
  }
 ],
 "metadata": {
  "kernelspec": {
   "display_name": "py310",
   "language": "python",
   "name": "python3"
  },
  "language_info": {
   "codemirror_mode": {
    "name": "ipython",
    "version": 3
   },
   "file_extension": ".py",
   "mimetype": "text/x-python",
   "name": "python",
   "nbconvert_exporter": "python",
   "pygments_lexer": "ipython3",
   "version": "3.10.14"
  }
 },
 "nbformat": 4,
 "nbformat_minor": 2
}
